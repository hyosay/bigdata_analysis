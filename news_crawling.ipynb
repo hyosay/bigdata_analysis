{
 "cells": [
  {
   "cell_type": "code",
   "execution_count": 2,
   "metadata": {},
   "outputs": [],
   "source": [
    "import requests\n",
    "from bs4 import BeautifulSoup\n",
    "import json\n",
    "import re\n",
    "import sys\n",
    "import time\n",
    "import random\n",
    "import pandas as pd\n",
    "header = {\n",
    "    'User-Agent': 'Mozilla/5.0 (Windows NT 10.0; Win64; x64) AppleWebKit/537.36 (KHTML, like Gecko) Chrome/58.0.3029.110 Safari/537.36'\n",
    "}\n"
   ]
  },
  {
   "cell_type": "code",
   "execution_count": 19,
   "metadata": {},
   "outputs": [
    {
     "name": "stdout",
     "output_type": "stream",
     "text": [
      "인수위 “모든 방역조치 해제 성급”…격리해제 연기될 수도\n",
      "\n",
      "\t\t\t[앵커] 대통령직인수위원회가 정부의 방역조치 해제 추진에 대해 제동을 걸고 나섰습니다. 인수위는 실외 마스크 해제와 5월 말 격리해제 예정 조치도 너무 성급하다고 지적했습니다. 임종윤 기자와 자세한 얘기 나눠보겠습니다. 인수위가 정부의 방역해제 방안에 대해 반대의사를 다시 밝혔다고요? [기자] 인수위는 오늘(20일) 마치 코로나가 없는 것처럼 모든 방역조치를 해제하는 것은 현명하지 못하다고 밝혔습니다. 신용현 인수위 대변인은 특히, 안철수 위원장의 메시지라면서 마스크 착용은 최종방어선이며 정부가 섣불리 방역해제하지 않아야 한다고 강조했습니다. 안철수 인수위원장은 지난 13일에도 정부가 실외 마스크 해제를 검토하고 있는 것은 너무 성급한 조치라고 우려를 표시했었습니다. [앵커] 인수위가 정부의 방역해제 조치에 대해 거듭 반대입장을 내놓고 있는데요.이렇게 되면 향후 정부 계획에 영향이 있을까요? [기자] 새 정부가 다음 달 9일 출범한다는 것을 감안하면 현 정부에서 추진하고 있는 각종 방역해제 조치들이 그날 이후로 변화가 생길 가능성이 있습니다. 특히, 실외마스크 해제에 대한 인수위의 반대입장이 분명한 만큼 유행상황이 계속 하향안정 추세를 유지하더라도 정부가 오늘 발표한 5월 초에 해제결정을 내리기는 어려울 수도 있습니다. 여기에다 정부가 예고한 5월 말 격리의무 완전 해제 조치 역시 인수위의 반대입장이 분명한 만큼 실제 현실화되지 못할 가능성도 배제할 수 없어 보입니다. [앵커] 이런 가운데 올 가을 코로나19 재유행 이야기가 나와요? [기자] 오늘 오후에 질병관리청 주최로 심포지엄이 있었는데요. 이 자리에서 건국대 정은옥 수학과 교수는 4차접종 진행상황 등을 전제로 올 11월에서 내년 초 사이에 재유행 가능성이 있으며 누적 사망자가 최소 700명에서 최대 2700명이 나올 수 있다고 전망했습니다. 가천대 정재훈 교수는 스텔스 오미크론의 우세종화 시점 10에서 14주 후인 올해 가을쯤 중규모의 유행이 나타날 것으로 예상했습니다. [앵커] 임종윤 기자, 수고했습니다.\n",
      "\n",
      "\n",
      "\n",
      "\n",
      "\n"
     ]
    }
   ],
   "source": [
    "url = \"https://n.news.naver.com/article/374/0000282975?cds=news_media_pc&type=editn\"\n",
    "\n",
    "\n",
    "req = requests.get(url, headers=header)\n",
    "soup = BeautifulSoup(req.content, 'html.parser')\n",
    "\n",
    "news_title = soup.select(\".media_end_head_headline\")[0].get_text()\n",
    "news = soup.select(\"#dic_area\")[0].text\n",
    "\n",
    "print(news_title)\n",
    "print(news)\n"
   ]
  },
  {
   "cell_type": "code",
   "execution_count": null,
   "metadata": {},
   "outputs": [],
   "source": []
  }
 ],
 "metadata": {
  "language_info": {
   "name": "python"
  },
  "orig_nbformat": 4
 },
 "nbformat": 4,
 "nbformat_minor": 2
}
